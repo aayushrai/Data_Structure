{
  "nbformat": 4,
  "nbformat_minor": 0,
  "metadata": {
    "colab": {
      "name": "Linked_list_GFG.ipynb",
      "provenance": [],
      "collapsed_sections": [],
      "include_colab_link": true
    },
    "kernelspec": {
      "name": "python3",
      "display_name": "Python 3"
    }
  },
  "cells": [
    {
      "cell_type": "markdown",
      "metadata": {
        "id": "view-in-github",
        "colab_type": "text"
      },
      "source": [
        "<a href=\"https://colab.research.google.com/github/aayushrai/Data_Structure/blob/master/Linked_list_GFG.ipynb\" target=\"_parent\"><img src=\"https://colab.research.google.com/assets/colab-badge.svg\" alt=\"Open In Colab\"/></a>"
      ]
    },
    {
      "cell_type": "code",
      "metadata": {
        "id": "SS-eFaMrOJwO",
        "colab_type": "code",
        "colab": {}
      },
      "source": [
        "class Node:\n",
        "  def __init__(self,value=None):\n",
        "    self.value = value\n",
        "    self.next = None"
      ],
      "execution_count": 0,
      "outputs": []
    },
    {
      "cell_type": "code",
      "metadata": {
        "id": "pUnpU3U9OuMo",
        "colab_type": "code",
        "colab": {}
      },
      "source": [
        "class linkedList:\n",
        "  def __init__(self):\n",
        "    self.head = None\n",
        "\n",
        "  def insertAtEnd(self,value):\n",
        "    if self.head == None:\n",
        "      self.head = Node(value)\n",
        "    else:\n",
        "      current = self.head\n",
        "      while current.next != None:\n",
        "        current = current.next\n",
        "      current.next = Node(value)\n",
        "    \n",
        "  def insertAtFront(self,value):\n",
        "    if self.head is None:\n",
        "      self.head = Node(value)\n",
        "    else:\n",
        "      new = Node(value)\n",
        "      new.next = self.head\n",
        "      self.head = new\n",
        "\n",
        "  def insertAfter(self,prev_node,value):\n",
        "    if prev_node is None:\n",
        "      print(\"Can't insert at none\")\n",
        "    else:\n",
        "      new = Node(value)\n",
        "      new.next = prev_node.next\n",
        "      prev_node.next = new\n",
        "\n",
        "  def insertAtP(self,value,position):\n",
        "    if self.head is None and position != 1:\n",
        "      print(\"Position not in linked list\")\n",
        "    elif self.head is None and position == 1:\n",
        "      self.head = Node(value)\n",
        "    elif position == 1:\n",
        "      new = Node(value)\n",
        "      new.next = self.head\n",
        "      self.head = new\n",
        "    else:\n",
        "      prev = self.head\n",
        "      new = Node(value)\n",
        "      for i in range(position-2):\n",
        "        prev = prev.next\n",
        "      new.next = prev.next\n",
        "      prev.next = new\n",
        "\n",
        "  def deleteFront(self):\n",
        "    if self.head is None:\n",
        "      print('There is no element for delete')\n",
        "    else:\n",
        "      temp = self.head\n",
        "      self.head = temp.next\n",
        "      temp = None\n",
        "\n",
        "  def deleteEnd(self):\n",
        "    if self.head is None:\n",
        "      print(\"There is no element to delete\")\n",
        "    else:\n",
        "      current =self.head\n",
        "      while current.next.next != None:\n",
        "        current = current.next\n",
        "      current.next = None\n",
        "\n",
        "  def deleteByValue(self,value):\n",
        "    if self.head is None:\n",
        "      print(\"no element for delete\")\n",
        "    else:\n",
        "      if self.head.value is value:\n",
        "        self.head = self.head.next\n",
        "      else:  \n",
        "        prev = self.head      \n",
        "        while prev.next != None:\n",
        "          if prev.next.value is value:\n",
        "            temp = prev.next\n",
        "            prev.next = temp.next\n",
        "            temp = None\n",
        "            return\n",
        "          else:\n",
        "            prev = prev.next\n",
        "        print(\"Value not found in linked list\")\n",
        "        \n",
        "  def deleteAtP(self,position):\n",
        "    if self.head is None:\n",
        "      print(\"there is no element in linked list\")\n",
        "    else:\n",
        "      current = self.head\n",
        "      if position == 1:\n",
        "        temp = self.head\n",
        "        self.head = temp.next\n",
        "        temp = None\n",
        "      else:\n",
        "        for i in range(position-2):\n",
        "          current = current.next\n",
        "        temp = current.next\n",
        "        current.next = temp.next\n",
        "        temp = None\n",
        "\n",
        "  def deleteLinkedList(self):\n",
        "    current = self.head\n",
        "    while current:\n",
        "      nxt = current.next\n",
        "      del current.value\n",
        "      current = nxt\n",
        "    self.head = None\n",
        "    print(\"Linked List All Node Is Deleted\")\n",
        "\n",
        "  def length(self):\n",
        "    if self.head is None:\n",
        "      return 0\n",
        "    current = self.head\n",
        "    count = 1\n",
        "    while current.next != None:\n",
        "      count += 1\n",
        "      current = current.next\n",
        "    return count\n",
        "  def RLength(self,head):\n",
        "    if not head:\n",
        "      return 0\n",
        "    else:\n",
        "      return self.RLength(head.next) + 1\n",
        "\n",
        "  def RSearch(self,value,head):\n",
        "    if not head : return False \n",
        "    if head.value is value:\n",
        "      return True\n",
        "    else: return self.RSearch(value,head.next)\n",
        "    \n",
        "  def Search(self,value):\n",
        "    if self.head is None:\n",
        "      print(\"Linked list is empty\")\n",
        "    current = self.head\n",
        "    while current is not None :\n",
        "      if current.value is value:\n",
        "        return True\n",
        "      current = current.next\n",
        "    return False\n",
        "  def display(self):\n",
        "    if self.head is None:\n",
        "      print(\"Linked list is empty.\")\n",
        "    else:\n",
        "      current = self.head \n",
        "      while current.next != None:\n",
        "        print(current.value)\n",
        "        current = current.next\n",
        "      print(current.value)\n",
        "  def nthNodeFromEnd(self,n):\n",
        "     length = self.length()\n",
        "     if n > length:\n",
        "       print(\"N is greater then length\")\n",
        "     else:\n",
        "      current = self.head\n",
        "      for i in range(length-n):\n",
        "        current = current.next\n",
        "      return current.value\n",
        "\n",
        "  def MiddleElement(self):\n",
        "    fast = self.head\n",
        "    slow = self.head\n",
        "    if self.head is not None:\n",
        "        while fast is not None and fast.next is not None:\n",
        "          slow = slow.next\n",
        "          fast = fast.next.next\n",
        "        return slow.value\n",
        "  def countDublicate(self,number):\n",
        "    current = self.head\n",
        "    count = 0\n",
        "    while current.next is not None:\n",
        "      current = current.next\n",
        "      if current.value is number:\n",
        "        count += 1\n",
        "    return count\n",
        "\n",
        "  def FindLoop(self):\n",
        "    current = self.head\n",
        "    address = set()\n",
        "    while current:\n",
        "      if current in address:\n",
        "        return True\n",
        "      address.add(current)\n",
        "      current = current.next\n",
        "    return False\n",
        "\n",
        "  def palindromic(self):\n",
        "    stack = list()\n",
        "    current = self.head\n",
        "    while current is not None:\n",
        "      stack.append(current.value)\n",
        "      current = current.next\n",
        "    invstack = stack[::-1]\n",
        "    for i in range(len(stack)):\n",
        "       if stack[i] != invstack[i]:\n",
        "         return False\n",
        "    return True\n",
        "  def deleteDublicateFormSortedlist(self):\n",
        "    temp = self.head\n",
        "    if temp is None:\n",
        "      print(\"empty list no dublicate\")\n",
        "    else:\n",
        "      while temp.next is not None:\n",
        "        if temp.value == temp.next.value:\n",
        "          new = temp.next.next\n",
        "          temp.next =None\n",
        "          temp.next = new\n",
        "        else:\n",
        "          temp = temp.next\n",
        "        \n",
        "  def deleteDublicate(self):\n",
        "    current = self.head\n",
        "    ls =[current.value]\n",
        "    while current.next is not None:\n",
        "      if current.next.value in ls:\n",
        "        temp = current.next\n",
        "        current.next = temp.next\n",
        "        temp = None\n",
        "      else:\n",
        "       ls.append(current.next.value)\n",
        "       current = current.next\n",
        "  def swapNode(self,x,y):\n",
        "    if x == y :\n",
        "      return\n",
        "    prevX = None\n",
        "    currX = self.head\n",
        "    prevY = None\n",
        "    currY = self.head\n",
        "    while currX is not None and currX.value is not x:\n",
        "      prevX = currX\n",
        "      currX = currX.next\n",
        "    while currY is not None and currY.value is not y:\n",
        "      prevY = currY\n",
        "      currY = currY.next\n",
        "    if currX is None or currY is None:\n",
        "      return\n",
        "    prevX.next = currY\n",
        "    prevY.next = currX  \n",
        "\n",
        "    temp = currX.next\n",
        "    currX.next = currY.next\n",
        "    currY.next = temp\n",
        "\n",
        "  def pairSwap(self):\n",
        "   curr = self.head\n",
        "   if curr is None:\n",
        "     return\n",
        "   while curr is not None and curr.next is not None:\n",
        "     curr.value,curr.next.value = curr.next.value,curr.value\n",
        "     curr = curr.next.next\n",
        "\n",
        "  def RPairSwap(self,head):\n",
        "    if head is None or head.next is None :\n",
        "      return\n",
        "    else:\n",
        "      head.value,head.next.value = head.next.value,head.value\n",
        "      self.RPairSwap(head.next.next)\n",
        "\n",
        "  def lastToFront(self):\n",
        "    Slast = self.head\n",
        "    while Slast.next.next is not None:\n",
        "      Slast = Slast.next\n",
        "    element = Slast.next.value\n",
        "    Slast.next = None\n",
        "    new = Node(element)\n",
        "    new.next = self.head\n",
        "    self.head = new\n",
        "  def reverse(self):\n",
        "      prev = None\n",
        "      curr = self.head\n",
        "      while curr is not None:\n",
        "        nxt = curr.next\n",
        "        curr.next = prev\n",
        "        prev = curr\n",
        "        curr = nxt\n",
        "      self.head = prev\n",
        "  def rReverse(self,head,prev=None):\n",
        "    if head is None:\n",
        "      self.head = prev\n",
        "      return\n",
        "    else:\n",
        "      nxt = head.next\n",
        "      head.next = prev\n",
        "      prev = head\n",
        "      head = nxt\n",
        "      self.rReverse(head,prev)\n",
        "  def rReverse2(self,head):\n",
        "    if head is None or head.next is None:\n",
        "      self.head = head\n",
        "      return\n",
        "    self.rReverse2(head.next)\n",
        "    head.next.next = head\n",
        "    head.next = None\n",
        "  def reversePrint(self,head):\n",
        "    if head is None:\n",
        "      return\n",
        "    self.reversePrint(head.next)\n",
        "    print(head.value)\n",
        "    \n",
        "  def Reverse(self,head,k):\n",
        "    prev = None\n",
        "    curr = head\n",
        "    next = None\n",
        "    c = 0\n",
        "    while curr is not None and c<k:\n",
        "      next = curr.next\n",
        "      curr.next = prev\n",
        "      prev = curr\n",
        "      curr = next\n",
        "      c += 1\n",
        "    if next is not None:\n",
        "      head.next = self.Reverse(next,k)\n",
        "    return prev\n",
        "\n",
        "  def middleHead(self):\n",
        "    slow = self.head\n",
        "    fast = self.head\n",
        "    prev = None\n",
        "    while fast is not None and fast.next is not None:\n",
        "      prev = slow\n",
        "      slow = slow.next\n",
        "      fast = fast.next.next\n",
        "    if prev is None:\n",
        "      return\n",
        "    prev.next = slow.next\n",
        "    slow.next = self.head\n",
        "    self.head = slow\n",
        "\n",
        "  def middleinsert(self,value):\n",
        "    slow = self.head\n",
        "    fast = self.head.next\n",
        "    while fast is not None and fast.next is not None:\n",
        "      slow = slow.next\n",
        "      fast = fast.next.next\n",
        "    new = Node(value)\n",
        "    new.next = slow.next\n",
        "    slow.next = new\n",
        "  def insertAfterNthNode(self,n,value):\n",
        "    slow = self.head\n",
        "    fast = self.head\n",
        "    for i in range(n-1):\n",
        "      fast = fast.next\n",
        "    while fast.next is not None:\n",
        "      slow = slow.next\n",
        "      fast = fast.next\n",
        "    new = Node(value)\n",
        "    new.next = slow.next\n",
        "    slow.next = new\n",
        "  def addOne(self):\n",
        "    \n",
        "\n",
        "      \n"
      ],
      "execution_count": 0,
      "outputs": []
    },
    {
      "cell_type": "code",
      "metadata": {
        "id": "x7AlC6_pSI8t",
        "colab_type": "code",
        "outputId": "7c969522-0e16-4344-cab0-d55e8d0fbdcb",
        "colab": {
          "base_uri": "https://localhost:8080/",
          "height": 88
        }
      },
      "source": [
        "l = linkedList()\n",
        "l.insertAtEnd(20)\n",
        "l.insertAtEnd(4)\n",
        "l.insertAtEnd(15)\n",
        "l.insertAtEnd(10)\n",
        "l.display()  "
      ],
      "execution_count": 0,
      "outputs": [
        {
          "output_type": "stream",
          "text": [
            "20\n",
            "4\n",
            "15\n",
            "10\n"
          ],
          "name": "stdout"
        }
      ]
    },
    {
      "cell_type": "code",
      "metadata": {
        "id": "vm1y9yuF-mBb",
        "colab_type": "code",
        "outputId": "9cc822ee-9ff1-4dec-f1ae-22a6f85f74a6",
        "colab": {
          "base_uri": "https://localhost:8080/",
          "height": 88
        }
      },
      "source": [
        "l1 = linkedList()\n",
        "l1.insertAtEnd(1)\n",
        "l1.insertAtEnd(2)\n",
        "l1.insertAtEnd(4)\n",
        "l1.insertAtEnd(8)\n",
        "l1.display()  "
      ],
      "execution_count": 0,
      "outputs": [
        {
          "output_type": "stream",
          "text": [
            "1\n",
            "2\n",
            "4\n",
            "8\n"
          ],
          "name": "stdout"
        }
      ]
    },
    {
      "cell_type": "code",
      "metadata": {
        "id": "byEMctcLnmk2",
        "colab_type": "code",
        "outputId": "1616732a-687b-4909-d6ae-12bab1dd10f5",
        "colab": {
          "base_uri": "https://localhost:8080/",
          "height": 88
        }
      },
      "source": [
        "l2 = linkedList()\n",
        "l2.insertAtEnd(10)\n",
        "l2.insertAtEnd(9)\n",
        "l2.insertAtEnd(4)\n",
        "l2.insertAtEnd(2)\n",
        "l2.display()  "
      ],
      "execution_count": 0,
      "outputs": [
        {
          "output_type": "stream",
          "text": [
            "10\n",
            "9\n",
            "4\n",
            "2\n"
          ],
          "name": "stdout"
        }
      ]
    },
    {
      "cell_type": "code",
      "metadata": {
        "id": "IgTx1LYObwGy",
        "colab_type": "code",
        "colab": {}
      },
      "source": [
        "def triplet(head1,head2,head3,number):\n",
        "  a = head1\n",
        "  while a:\n",
        "    b = head2\n",
        "    c = head3\n",
        "    while b and c:\n",
        "      sum = a.value + b.value + c.value\n",
        "      if sum is number:\n",
        "         print(a.value,b.value,c.value)\n",
        "         return\n",
        "      elif sum < number:\n",
        "        b = b.next\n",
        "      else:\n",
        "        c = c.next\n",
        "    a = a.next"
      ],
      "execution_count": 0,
      "outputs": []
    },
    {
      "cell_type": "code",
      "metadata": {
        "id": "Jhrc1GsHb0Q4",
        "colab_type": "code",
        "outputId": "7e14b9da-8d02-45da-9199-863fbf50e224",
        "colab": {
          "base_uri": "https://localhost:8080/",
          "height": 35
        }
      },
      "source": [
        "triplet(l.head,l1.head,l2.head,25)"
      ],
      "execution_count": 0,
      "outputs": [
        {
          "output_type": "stream",
          "text": [
            "20 1 4\n"
          ],
          "name": "stdout"
        }
      ]
    },
    {
      "cell_type": "code",
      "metadata": {
        "id": "-igTOLNofzal",
        "colab_type": "code",
        "colab": {}
      },
      "source": [
        ""
      ],
      "execution_count": 0,
      "outputs": []
    },
    {
      "cell_type": "code",
      "metadata": {
        "id": "ewrkrsm_8pqV",
        "colab_type": "code",
        "colab": {}
      },
      "source": [
        "def intersectOfSortedLL(list1,list2):\n",
        "  l1 = list1.head\n",
        "  l2 = list2.head\n",
        "  l3 = linkedList()\n",
        "  while l1 is not None and l2 is not None:\n",
        "    if l1.value == l2.value:\n",
        "      l3.insertAtEnd(l1.value)\n",
        "      l1 = l1.next\n",
        "      l2 = l2.next\n",
        "    elif l1.value < l2.value:\n",
        "      l1 = l1.next\n",
        "    elif l1.value > l2.value:\n",
        "      l2 = l2.next\n",
        "  return l3"
      ],
      "execution_count": 0,
      "outputs": []
    },
    {
      "cell_type": "code",
      "metadata": {
        "id": "tSqYmdH3o--P",
        "colab_type": "code",
        "colab": {}
      },
      "source": [
        "def mergeSortedLL(l1,l2):\n",
        "  l1 = l1.head\n",
        "  l2 = l2.head\n",
        "  head =  None\n",
        "  while l1 is not None or l2 is not None:\n",
        "    if (l2 is None and l1 is not None) or l1.value <= l2.value :\n",
        "      new = Node(l1.value)\n",
        "      new.next = head\n",
        "      head = new\n",
        "      l1 = l1.next\n",
        "    elif (l1 is None and l2 is not None) or l2.value <= l1.value :\n",
        "      new = Node(l2.value)\n",
        "      new.next = head\n",
        "      head = new\n",
        "      l2 = l2.next\n",
        "  return head\n",
        "    \n",
        "    "
      ],
      "execution_count": 0,
      "outputs": []
    },
    {
      "cell_type": "code",
      "metadata": {
        "id": "hxJz_i8k91eV",
        "colab_type": "code",
        "outputId": "d0548dc9-0cf6-4967-c2b8-19cac5a62116",
        "colab": {
          "base_uri": "https://localhost:8080/",
          "height": 716
        }
      },
      "source": [
        "ll = mergeSortedLL(l1,l)\n",
        "display(ll)"
      ],
      "execution_count": 0,
      "outputs": [
        {
          "output_type": "stream",
          "text": [
            "<__main__.Node object at 0x7f29f48fc128>\n",
            "6\n",
            "1\n",
            "<__main__.Node object at 0x7f29f48fc128>\n",
            "6\n",
            "2\n",
            "<__main__.Node object at 0x7f29f48fc128>\n",
            "6\n",
            "8\n",
            "<__main__.Node object at 0x7f29f4876e80>\n",
            "7\n",
            "8\n",
            "<__main__.Node object at 0x7f29f48fc518>\n",
            "8\n",
            "8\n",
            "<__main__.Node object at 0x7f29f48fc048>\n",
            "10\n",
            "8\n",
            "<__main__.Node object at 0x7f29f48fc048>\n",
            "10\n",
            "9\n",
            "<__main__.Node object at 0x7f29f48fc048>\n",
            "10\n",
            "11\n",
            "None\n"
          ],
          "name": "stdout"
        },
        {
          "output_type": "error",
          "ename": "AttributeError",
          "evalue": "ignored",
          "traceback": [
            "\u001b[0;31m---------------------------------------------------------------------------\u001b[0m",
            "\u001b[0;31mAttributeError\u001b[0m                            Traceback (most recent call last)",
            "\u001b[0;32m<ipython-input-76-6c9b9a56906e>\u001b[0m in \u001b[0;36m<module>\u001b[0;34m()\u001b[0m\n\u001b[0;32m----> 1\u001b[0;31m \u001b[0mll\u001b[0m \u001b[0;34m=\u001b[0m \u001b[0mmergeSortedLL\u001b[0m\u001b[0;34m(\u001b[0m\u001b[0ml1\u001b[0m\u001b[0;34m,\u001b[0m\u001b[0ml\u001b[0m\u001b[0;34m)\u001b[0m\u001b[0;34m\u001b[0m\u001b[0;34m\u001b[0m\u001b[0m\n\u001b[0m\u001b[1;32m      2\u001b[0m \u001b[0mdisplay\u001b[0m\u001b[0;34m(\u001b[0m\u001b[0mll\u001b[0m\u001b[0;34m)\u001b[0m\u001b[0;34m\u001b[0m\u001b[0;34m\u001b[0m\u001b[0m\n",
            "\u001b[0;32m<ipython-input-75-7bd65007688c>\u001b[0m in \u001b[0;36mmergeSortedLL\u001b[0;34m(l1, l2)\u001b[0m\n\u001b[1;32m      5\u001b[0m   \u001b[0;32mwhile\u001b[0m \u001b[0ml1\u001b[0m \u001b[0;32mis\u001b[0m \u001b[0;32mnot\u001b[0m \u001b[0;32mNone\u001b[0m \u001b[0;32mor\u001b[0m \u001b[0ml2\u001b[0m \u001b[0;32mis\u001b[0m \u001b[0;32mnot\u001b[0m \u001b[0;32mNone\u001b[0m\u001b[0;34m:\u001b[0m\u001b[0;34m\u001b[0m\u001b[0;34m\u001b[0m\u001b[0m\n\u001b[1;32m      6\u001b[0m     \u001b[0mprint\u001b[0m\u001b[0;34m(\u001b[0m\u001b[0ml1\u001b[0m\u001b[0;34m)\u001b[0m\u001b[0;34m\u001b[0m\u001b[0;34m\u001b[0m\u001b[0m\n\u001b[0;32m----> 7\u001b[0;31m     \u001b[0mprint\u001b[0m\u001b[0;34m(\u001b[0m\u001b[0ml1\u001b[0m\u001b[0;34m.\u001b[0m\u001b[0mvalue\u001b[0m\u001b[0;34m)\u001b[0m\u001b[0;34m\u001b[0m\u001b[0;34m\u001b[0m\u001b[0m\n\u001b[0m\u001b[1;32m      8\u001b[0m     \u001b[0mprint\u001b[0m\u001b[0;34m(\u001b[0m\u001b[0ml2\u001b[0m\u001b[0;34m.\u001b[0m\u001b[0mvalue\u001b[0m\u001b[0;34m)\u001b[0m\u001b[0;34m\u001b[0m\u001b[0;34m\u001b[0m\u001b[0m\n\u001b[1;32m      9\u001b[0m     \u001b[0;32mif\u001b[0m \u001b[0;34m(\u001b[0m\u001b[0ml2\u001b[0m \u001b[0;32mis\u001b[0m \u001b[0;32mNone\u001b[0m \u001b[0;32mand\u001b[0m \u001b[0ml1\u001b[0m \u001b[0;32mis\u001b[0m \u001b[0;32mnot\u001b[0m \u001b[0;32mNone\u001b[0m\u001b[0;34m)\u001b[0m \u001b[0;32mor\u001b[0m \u001b[0ml1\u001b[0m\u001b[0;34m.\u001b[0m\u001b[0mvalue\u001b[0m \u001b[0;34m<=\u001b[0m \u001b[0ml2\u001b[0m\u001b[0;34m.\u001b[0m\u001b[0mvalue\u001b[0m \u001b[0;34m:\u001b[0m\u001b[0;34m\u001b[0m\u001b[0;34m\u001b[0m\u001b[0m\n",
            "\u001b[0;31mAttributeError\u001b[0m: 'NoneType' object has no attribute 'value'"
          ]
        }
      ]
    },
    {
      "cell_type": "code",
      "metadata": {
        "id": "-sh5x2tIeoHx",
        "colab_type": "code",
        "colab": {}
      },
      "source": [
        "\n"
      ],
      "execution_count": 0,
      "outputs": []
    },
    {
      "cell_type": "code",
      "metadata": {
        "id": "B0svI1ucmlvp",
        "colab_type": "code",
        "outputId": "6db9402a-92db-4378-f4c6-64dd5932290f",
        "colab": {
          "base_uri": "https://localhost:8080/",
          "height": 229
        }
      },
      "source": [
        "l1 = p1\n",
        "l2 = p5\n",
        "p1 = Node(9)\n",
        "p2 =  Node(7)\n",
        "p3 = Node(2)\n",
        "p4 =  Node(1)\n",
        "p5 = Node(8)\n",
        "p6 =  Node(0)\n",
        "\n",
        "p1.next = p2\n",
        "p2.next = p3\n",
        "p3.next = p4\n",
        "\n",
        "p5.next = p6\n",
        "p6.next = p2"
      ],
      "execution_count": 0,
      "outputs": [
        {
          "output_type": "error",
          "ename": "NameError",
          "evalue": "ignored",
          "traceback": [
            "\u001b[0;31m---------------------------------------------------------------------------\u001b[0m",
            "\u001b[0;31mNameError\u001b[0m                                 Traceback (most recent call last)",
            "\u001b[0;32m<ipython-input-39-0836ea995417>\u001b[0m in \u001b[0;36m<module>\u001b[0;34m()\u001b[0m\n\u001b[0;32m----> 1\u001b[0;31m \u001b[0ml1\u001b[0m \u001b[0;34m=\u001b[0m \u001b[0mp1\u001b[0m\u001b[0;34m\u001b[0m\u001b[0;34m\u001b[0m\u001b[0m\n\u001b[0m\u001b[1;32m      2\u001b[0m \u001b[0ml2\u001b[0m \u001b[0;34m=\u001b[0m \u001b[0mp5\u001b[0m\u001b[0;34m\u001b[0m\u001b[0;34m\u001b[0m\u001b[0m\n\u001b[1;32m      3\u001b[0m \u001b[0mp1\u001b[0m \u001b[0;34m=\u001b[0m \u001b[0mNode\u001b[0m\u001b[0;34m(\u001b[0m\u001b[0;36m9\u001b[0m\u001b[0;34m)\u001b[0m\u001b[0;34m\u001b[0m\u001b[0;34m\u001b[0m\u001b[0m\n\u001b[1;32m      4\u001b[0m \u001b[0mp2\u001b[0m \u001b[0;34m=\u001b[0m  \u001b[0mNode\u001b[0m\u001b[0;34m(\u001b[0m\u001b[0;36m7\u001b[0m\u001b[0;34m)\u001b[0m\u001b[0;34m\u001b[0m\u001b[0;34m\u001b[0m\u001b[0m\n\u001b[1;32m      5\u001b[0m \u001b[0mp3\u001b[0m \u001b[0;34m=\u001b[0m \u001b[0mNode\u001b[0m\u001b[0;34m(\u001b[0m\u001b[0;36m2\u001b[0m\u001b[0;34m)\u001b[0m\u001b[0;34m\u001b[0m\u001b[0;34m\u001b[0m\u001b[0m\n",
            "\u001b[0;31mNameError\u001b[0m: name 'p1' is not defined"
          ]
        }
      ]
    },
    {
      "cell_type": "code",
      "metadata": {
        "id": "_OF4A68uocwe",
        "colab_type": "code",
        "outputId": "d04318a4-4501-4d86-bc15-311b06ba2b6f",
        "colab": {
          "base_uri": "https://localhost:8080/",
          "height": 34
        }
      },
      "source": [
        "l1"
      ],
      "execution_count": 0,
      "outputs": [
        {
          "output_type": "execute_result",
          "data": {
            "text/plain": [
              "<__main__.Node at 0x7f497a560d68>"
            ]
          },
          "metadata": {
            "tags": []
          },
          "execution_count": 179
        }
      ]
    },
    {
      "cell_type": "code",
      "metadata": {
        "id": "ndkpqHDhodqk",
        "colab_type": "code",
        "colab": {}
      },
      "source": [
        " def display(head):\n",
        "      current = head \n",
        "      while current.next != None:\n",
        "        print(current.value)\n",
        "        current = current.next\n",
        "      print(current.value)"
      ],
      "execution_count": 0,
      "outputs": []
    },
    {
      "cell_type": "code",
      "metadata": {
        "id": "_gVy7A3Ooqap",
        "colab_type": "code",
        "outputId": "a5c842c4-816c-445f-f870-bf74e2211278",
        "colab": {
          "base_uri": "https://localhost:8080/",
          "height": 101
        }
      },
      "source": [
        "display(l2)"
      ],
      "execution_count": 0,
      "outputs": [
        {
          "output_type": "stream",
          "text": [
            "8\n",
            "0\n",
            "7\n",
            "2\n",
            "1\n"
          ],
          "name": "stdout"
        }
      ]
    },
    {
      "cell_type": "code",
      "metadata": {
        "id": "evCoxrITotOz",
        "colab_type": "code",
        "outputId": "1ef9bcd5-833e-446c-a568-3eccad363272",
        "colab": {
          "base_uri": "https://localhost:8080/",
          "height": 67
        }
      },
      "source": [
        "for i in intersectionPoint(l1,l2):\n",
        "  print(i.value)"
      ],
      "execution_count": 0,
      "outputs": [
        {
          "output_type": "stream",
          "text": [
            "2\n",
            "7\n",
            "1\n"
          ],
          "name": "stdout"
        }
      ]
    },
    {
      "cell_type": "code",
      "metadata": {
        "id": "IJYQAK6BpbCu",
        "colab_type": "code",
        "colab": {}
      },
      "source": [
        "for i in range(int(input())):\n",
        "  for j in range(int(input())):\n",
        "    "
      ],
      "execution_count": 0,
      "outputs": []
    },
    {
      "cell_type": "code",
      "metadata": {
        "id": "7mYXWrHYKFEi",
        "colab_type": "code",
        "colab": {}
      },
      "source": [
        "p =[]\n",
        "for i in range(5):\n",
        "  p.append(1/5)"
      ],
      "execution_count": 0,
      "outputs": []
    },
    {
      "cell_type": "code",
      "metadata": {
        "id": "5weKpYOYKMgL",
        "colab_type": "code",
        "outputId": "7165c523-0082-4dab-9880-f1b735a21309",
        "colab": {
          "base_uri": "https://localhost:8080/",
          "height": 34
        }
      },
      "source": [
        "print(p)"
      ],
      "execution_count": 0,
      "outputs": [
        {
          "output_type": "stream",
          "text": [
            "[0.2, 0.2, 0.2, 0.2, 0.2]\n"
          ],
          "name": "stdout"
        }
      ]
    },
    {
      "cell_type": "code",
      "metadata": {
        "id": "pyGsNJueKOb6",
        "colab_type": "code",
        "colab": {}
      },
      "source": [
        "for i in range(5):\n",
        "  if color is \"red\":\n",
        "    p[i] = p*"
      ],
      "execution_count": 0,
      "outputs": []
    }
  ]
}