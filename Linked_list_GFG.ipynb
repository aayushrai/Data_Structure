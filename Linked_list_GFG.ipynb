{
  "nbformat": 4,
  "nbformat_minor": 0,
  "metadata": {
    "colab": {
      "name": "Linked_list_GFG.ipynb",
      "provenance": [],
      "collapsed_sections": [],
      "include_colab_link": true
    },
    "kernelspec": {
      "name": "python3",
      "display_name": "Python 3"
    }
  },
  "cells": [
    {
      "cell_type": "markdown",
      "metadata": {
        "id": "view-in-github",
        "colab_type": "text"
      },
      "source": [
        "<a href=\"https://colab.research.google.com/github/aayushrai/Data_Structure/blob/master/Linked_list_GFG.ipynb\" target=\"_parent\"><img src=\"https://colab.research.google.com/assets/colab-badge.svg\" alt=\"Open In Colab\"/></a>"
      ]
    },
    {
      "cell_type": "code",
      "metadata": {
        "id": "ac-fFPOSrqBh",
        "colab_type": "code",
        "colab": {}
      },
      "source": [
        ""
      ],
      "execution_count": 0,
      "outputs": []
    },
    {
      "cell_type": "code",
      "metadata": {
        "id": "SS-eFaMrOJwO",
        "colab_type": "code",
        "colab": {}
      },
      "source": [
        "class Node:\n",
        "  def __init__(self,value=None):\n",
        "    self.value = value\n",
        "    self.next = None"
      ],
      "execution_count": 0,
      "outputs": []
    },
    {
      "cell_type": "code",
      "metadata": {
        "id": "pUnpU3U9OuMo",
        "colab_type": "code",
        "colab": {}
      },
      "source": [
        "class linkedList:\n",
        "  def __init__(self):\n",
        "    self.head = None\n",
        "\n",
        "  def insertAtEnd(self,value):\n",
        "    if self.head == None:\n",
        "      self.head = Node(value)\n",
        "    else:\n",
        "      current = self.head\n",
        "      while current.next != None:\n",
        "        current = current.next\n",
        "      current.next = Node(value)\n",
        "    \n",
        "  def insertAtFront(self,value):\n",
        "    if self.head is None:\n",
        "      self.head = Node(value)\n",
        "    else:\n",
        "      new = Node(value)\n",
        "      new.next = self.head\n",
        "      self.head = new\n",
        "\n",
        "  def insertAfter(self,prev_node,value):\n",
        "    if prev_node is None:\n",
        "      print(\"Can't insert at none\")\n",
        "    else:\n",
        "      new = Node(value)\n",
        "      new.next = prev_node.next\n",
        "      prev_node.next = new\n",
        "\n",
        "  def insertAtP(self,value,position):\n",
        "    if self.head is None and position != 1:\n",
        "      print(\"Position not in linked list\")\n",
        "    elif self.head is None and position == 1:\n",
        "      self.head = Node(value)\n",
        "    elif position == 1:\n",
        "      new = Node(value)\n",
        "      new.next = self.head\n",
        "      self.head = new\n",
        "    else:\n",
        "      prev = self.head\n",
        "      new = Node(value)\n",
        "      for i in range(position-2):\n",
        "        prev = prev.next\n",
        "      new.next = prev.next\n",
        "      prev.next = new\n",
        "\n",
        "  def deleteFront(self):\n",
        "    if self.head is None:\n",
        "      print('There is no element for delete')\n",
        "    else:\n",
        "      temp = self.head\n",
        "      self.head = temp.next\n",
        "      temp = None\n",
        "\n",
        "  def deleteEnd(self):\n",
        "    if self.head is None:\n",
        "      print(\"There is no element to delete\")\n",
        "    else:\n",
        "      current =self.head\n",
        "      while current.next.next != None:\n",
        "        current = current.next\n",
        "      current.next = None\n",
        "\n",
        "  def deleteByValue(self,value):\n",
        "    if self.head is None:\n",
        "      print(\"no element for delete\")\n",
        "    else:\n",
        "      if self.head.value is value:\n",
        "        self.head = self.head.next\n",
        "      else:  \n",
        "        prev = self.head      \n",
        "        while prev.next != None:\n",
        "          if prev.next.value is value:\n",
        "            temp = prev.next\n",
        "            prev.next = temp.next\n",
        "            temp = None\n",
        "            return\n",
        "          else:\n",
        "            prev = prev.next\n",
        "        print(\"Value not found in linked list\")\n",
        "        \n",
        "  def deleteAtP(self,position):\n",
        "    if self.head is None:\n",
        "      print(\"there is no element in linked list\")\n",
        "    else:\n",
        "      current = self.head\n",
        "      if position == 1:\n",
        "        temp = self.head\n",
        "        self.head = temp.next\n",
        "        temp = None\n",
        "      else:\n",
        "        for i in range(position-2):\n",
        "          current = current.next\n",
        "        temp = current.next\n",
        "        current.next = temp.next\n",
        "        temp = None\n",
        "\n",
        "  def deleteLinkedList(self):\n",
        "    current = self.head\n",
        "    while current:\n",
        "      nxt = current.next\n",
        "      del current.value\n",
        "      current = nxt\n",
        "    self.head = None\n",
        "    print(\"Linked List All Node Is Deleted\")\n",
        "\n",
        "  def length(self):\n",
        "    if self.head is None:\n",
        "      return 0\n",
        "    current = self.head\n",
        "    count = 1\n",
        "    while current.next != None:\n",
        "      count += 1\n",
        "      current = current.next\n",
        "    return count\n",
        "  def RLength(self,head):\n",
        "    if not head:\n",
        "      return 0\n",
        "    else:\n",
        "      return self.RLength(head.next) + 1\n",
        "\n",
        "  def RSearch(self,value,head):\n",
        "    if not head : return False \n",
        "    if head.value is value:\n",
        "      return True\n",
        "    else: return self.RSearch(value,head.next)\n",
        "    \n",
        "  def Search(self,value):\n",
        "    if self.head is None:\n",
        "      print(\"Linked list is empty\")\n",
        "    current = self.head\n",
        "    while current is not None :\n",
        "      if current.value is value:\n",
        "        return True\n",
        "      current = current.next\n",
        "    return False\n",
        "  def display(self):\n",
        "    if self.head is None:\n",
        "      print(\"Linked list is empty.\")\n",
        "    else:\n",
        "      current = self.head \n",
        "      while current.next != None:\n",
        "        print(current.value)\n",
        "        current = current.next\n",
        "      print(current.value)\n",
        "  def nthNodeFromEnd(self,n):\n",
        "     length = self.length()\n",
        "     if n > length:\n",
        "       print(\"N is greater then length\")\n",
        "     else:\n",
        "      current = self.head\n",
        "      for i in range(length-n):\n",
        "        current = current.next\n",
        "      return current.value\n",
        "\n",
        "  def MiddleElement(self):\n",
        "    fast = self.head\n",
        "    slow = self.head\n",
        "    if self.head is not None:\n",
        "        while fast is not None and fast.next is not None:\n",
        "          slow = slow.next\n",
        "          fast = fast.next.next\n",
        "        return slow.value\n",
        "  def countDublicate(self,number):\n",
        "    current = self.head\n",
        "    count = 0\n",
        "    while current.next is not None:\n",
        "      current = current.next\n",
        "      if current.value is number:\n",
        "        count += 1\n",
        "    return count\n",
        "\n",
        "  def FindLoop(self):\n",
        "    current = self.head\n",
        "    address = set()\n",
        "    while current:\n",
        "      if current in address:\n",
        "        return True\n",
        "      address.add(current)\n",
        "      current = current.next\n",
        "    return False\n",
        "\n",
        "  def palindromic(self):\n",
        "    stack = list()\n",
        "    current = self.head\n",
        "    while current is not None:\n",
        "      stack.append(current.value)\n",
        "      current = current.next\n",
        "    invstack = stack[::-1]\n",
        "    for i in range(len(stack)):\n",
        "       if stack[i] != invstack[i]:\n",
        "         return False\n",
        "    return True\n",
        "  def deleteDublicateFormSortedlist(self):\n",
        "    temp = self.head\n",
        "    if temp is None:\n",
        "      print(\"empty list no dublicate\")\n",
        "    else:\n",
        "      while temp.next is not None:\n",
        "        if temp.value == temp.next.value:\n",
        "          new = temp.next.next\n",
        "          temp.next =None\n",
        "          temp.next = new\n",
        "        else:\n",
        "          temp = temp.next\n",
        "        \n",
        "  def deleteDublicate(self):\n",
        "    current = self.head\n",
        "    ls =[current.value]\n",
        "    while current.next is not None:\n",
        "      if current.next.value in ls:\n",
        "        temp = current.next\n",
        "        current.next = temp.next\n",
        "        temp = None\n",
        "      else:\n",
        "       ls.append(current.next.value)\n",
        "       current = current.next\n",
        "  def swapNode(self,x,y):\n",
        "    if x == y :\n",
        "      return\n",
        "    prevX = None\n",
        "    currX = self.head\n",
        "    prevY = None\n",
        "    currY = self.head\n",
        "    while currX is not None and currX.value is not x:\n",
        "      prevX = currX\n",
        "      currX = currX.next\n",
        "    while currY is not None and currY.value is not y:\n",
        "      prevY = currY\n",
        "      currY = currY.next\n",
        "    if currX is None or currY is None:\n",
        "      return\n",
        "    prevX.next = currY\n",
        "    prevY.next = currX  \n",
        "\n",
        "    temp = currX.next\n",
        "    currX.next = currY.next\n",
        "    currY.next = temp\n",
        "\n",
        "  def pairSwap(self):\n",
        "   curr = self.head\n",
        "   if curr is None:\n",
        "     return\n",
        "   while curr is not None and curr.next is not None:\n",
        "     curr.value,curr.next.value = curr.next.value,curr.value\n",
        "     curr = curr.next.next\n",
        "\n",
        "  def RPairSwap(self,head):\n",
        "    if head is None or head.next is None :\n",
        "      return\n",
        "    else:\n",
        "      head.value,head.next.value = head.next.value,head.value\n",
        "      self.RPairSwap(head.next.next)\n",
        "\n",
        "  def lastToFront(self):\n",
        "    Slast = self.head\n",
        "    while Slast.next.next is not None:\n",
        "      Slast = Slast.next\n",
        "    element = Slast.next.value\n",
        "    Slast.next = None\n",
        "    new = Node(element)\n",
        "    new.next = self.head\n",
        "    self.head = new\n",
        "  def reverse(self):\n",
        "      prev = None\n",
        "      curr = self.head\n",
        "      while curr is not None:\n",
        "        nxt = curr.next\n",
        "        curr.next = prev\n",
        "        prev = curr\n",
        "        curr = nxt\n",
        "      self.head = prev\n",
        "  def rReverse(self,head,prev=None):\n",
        "    if head is None:\n",
        "      self.head = prev\n",
        "      return\n",
        "    else:\n",
        "      nxt = head.next\n",
        "      head.next = prev\n",
        "      prev = head\n",
        "      head = nxt\n",
        "      self.rReverse(head,prev)\n",
        "  def rReverse2(self,head):\n",
        "    if head is None or head.next is None:\n",
        "      self.head = head\n",
        "      return\n",
        "    self.rReverse2(head.next)\n",
        "    head.next.next = head\n",
        "    head.next = None\n",
        "  def reversePrint(self,head):\n",
        "    if head is None:\n",
        "      return\n",
        "    self.reversePrint(head.next)\n",
        "    print(head.value)\n",
        "    \n",
        "  def reverse(self, head, k): \n",
        "        current = head  \n",
        "        next  = None\n",
        "        prev = None\n",
        "        count = 0 \n",
        "   \n",
        "        while(current is not None and count < k): \n",
        "            next = current.next\n",
        "            current.next = prev \n",
        "            prev = current \n",
        "            current = next \n",
        "            count += 1\n",
        "        if next is not None: \n",
        "            head.next = self.reverse(next, k) \n",
        "\n",
        "        return prev\n",
        "  \n",
        "\n",
        "\n",
        "  def segregateEvenOdd(self):\n",
        "    curr = self.head\n",
        "    end = self.head\n",
        "    while end.next is not None:\n",
        "      end = end.next\n",
        "    while curr.value%2 is not 0 and curr.next is not None:\n",
        "      end.next = curr\n",
        "      curr = curr.next\n",
        "      end.next.next = None\n",
        "      end = end.next\n",
        "    self.head = curr\n",
        "    while curr.next is not None:\n",
        "      if curr.value%2 is 0:\n",
        "        prev = curr\n",
        "        curr = curr.next\n",
        "      else:\n",
        "        prev.next = curr.next\n",
        "        end.next = curr\n",
        "        end.next.next = None\n",
        "        end = end.next\n",
        "        curr = curr.next\n",
        "\n",
        "\n",
        "\n",
        "          \n",
        "\n",
        "\n",
        "      \n",
        "      \n",
        "      \n"
      ],
      "execution_count": 0,
      "outputs": []
    },
    {
      "cell_type": "code",
      "metadata": {
        "id": "x7AlC6_pSI8t",
        "colab_type": "code",
        "outputId": "f17ce217-12be-40b0-a6e6-552235515a8c",
        "colab": {
          "base_uri": "https://localhost:8080/",
          "height": 101
        }
      },
      "source": [
        "l = linkedList()\n",
        "l.insertAtEnd(1)\n",
        "l.insertAtEnd(2)\n",
        "l.insertAtEnd(3)\n",
        "l.insertAtEnd(4)\n",
        "l.insertAtEnd(6)\n",
        "l.head = l.reverse(l.head,3)\n",
        "l.display()  "
      ],
      "execution_count": 212,
      "outputs": [
        {
          "output_type": "stream",
          "text": [
            "3\n",
            "2\n",
            "1\n",
            "6\n",
            "4\n"
          ],
          "name": "stdout"
        }
      ]
    },
    {
      "cell_type": "code",
      "metadata": {
        "id": "byEMctcLnmk2",
        "colab_type": "code",
        "colab": {
          "base_uri": "https://localhost:8080/",
          "height": 84
        },
        "outputId": "79e2be0a-d0cd-470d-a0df-a730af26c879"
      },
      "source": [
        "l1 = linkedList()\n",
        "l1.insertAtEnd(2)\n",
        "l1.insertAtEnd(4)\n",
        "l1.insertAtEnd(6)\n",
        "l1.insertAtEnd(8)\n",
        "l1.display()  "
      ],
      "execution_count": 208,
      "outputs": [
        {
          "output_type": "stream",
          "text": [
            "2\n",
            "4\n",
            "6\n",
            "8\n"
          ],
          "name": "stdout"
        }
      ]
    },
    {
      "cell_type": "code",
      "metadata": {
        "id": "dUBiUhM6usPx",
        "colab_type": "code",
        "outputId": "284d7948-61ed-4e68-f8f3-29ff753966dd",
        "colab": {
          "base_uri": "https://localhost:8080/",
          "height": 101
        }
      },
      "source": [
        "l.display()"
      ],
      "execution_count": 136,
      "outputs": [
        {
          "output_type": "stream",
          "text": [
            "1\n",
            "2\n",
            "3\n",
            "4\n",
            "6\n"
          ],
          "name": "stdout"
        }
      ]
    },
    {
      "cell_type": "code",
      "metadata": {
        "id": "d5HrV1DyYcOZ",
        "colab_type": "code",
        "colab": {
          "base_uri": "https://localhost:8080/",
          "height": 84
        },
        "outputId": "fec06d5b-e57e-499a-d18b-5b4e70d6fce6"
      },
      "source": [
        "l1.display()"
      ],
      "execution_count": 137,
      "outputs": [
        {
          "output_type": "stream",
          "text": [
            "2\n",
            "4\n",
            "6\n",
            "8\n"
          ],
          "name": "stdout"
        }
      ]
    },
    {
      "cell_type": "code",
      "metadata": {
        "id": "ewrkrsm_8pqV",
        "colab_type": "code",
        "colab": {}
      },
      "source": [
        "def intersectOfSortedLL(list1,list2):\n",
        "  l1 = list1.head\n",
        "  l2 = list2.head\n",
        "  l3 = linkedList()\n",
        "  while l1 is not None and l2 is not None:\n",
        "    if l1.value == l2.value:\n",
        "      l3.insertAtEnd(l1.value)\n",
        "      l1 = l1.next\n",
        "      l2 = l2.next\n",
        "    elif l1.value < l2.value:\n",
        "      l1 = l1.next\n",
        "    elif l1.value > l2.value:\n",
        "      l2 = l2.next\n",
        "  return l3"
      ],
      "execution_count": 0,
      "outputs": []
    },
    {
      "cell_type": "code",
      "metadata": {
        "id": "hxJz_i8k91eV",
        "colab_type": "code",
        "colab": {
          "base_uri": "https://localhost:8080/",
          "height": 67
        },
        "outputId": "4251a8c1-4e19-4703-88a3-e97dfb98e53c"
      },
      "source": [
        "ll = intersectOfSortedLL(l1,l)\n",
        "ll.display()"
      ],
      "execution_count": 141,
      "outputs": [
        {
          "output_type": "stream",
          "text": [
            "2\n",
            "4\n",
            "6\n"
          ],
          "name": "stdout"
        }
      ]
    },
    {
      "cell_type": "code",
      "metadata": {
        "id": "-sh5x2tIeoHx",
        "colab_type": "code",
        "colab": {}
      },
      "source": [
        "def intersectionPoint(l1,l2):\n",
        "     lst1 = set()\n",
        "     lst2 = set()\n",
        "     while l1 is not None:\n",
        "       lst1.add(l1)\n",
        "       l1 = l1.next\n",
        "     while l2 is not None:\n",
        "       lst2.add(l2)\n",
        "       l2 = l2.next\n",
        "     return lst1.intersection(lst2)"
      ],
      "execution_count": 0,
      "outputs": []
    },
    {
      "cell_type": "code",
      "metadata": {
        "id": "B0svI1ucmlvp",
        "colab_type": "code",
        "colab": {}
      },
      "source": [
        "l1 = p1\n",
        "l2 = p5\n",
        "p1 = Node(9)\n",
        "p2 =  Node(7)\n",
        "p3 = Node(2)\n",
        "p4 =  Node(1)\n",
        "p5 = Node(8)\n",
        "p6 =  Node(0)\n",
        "\n",
        "p1.next = p2\n",
        "p2.next = p3\n",
        "p3.next = p4\n",
        "\n",
        "p5.next = p6\n",
        "p6.next = p2"
      ],
      "execution_count": 0,
      "outputs": []
    },
    {
      "cell_type": "code",
      "metadata": {
        "id": "_OF4A68uocwe",
        "colab_type": "code",
        "colab": {
          "base_uri": "https://localhost:8080/",
          "height": 34
        },
        "outputId": "d04318a4-4501-4d86-bc15-311b06ba2b6f"
      },
      "source": [
        "l1"
      ],
      "execution_count": 179,
      "outputs": [
        {
          "output_type": "execute_result",
          "data": {
            "text/plain": [
              "<__main__.Node at 0x7f497a560d68>"
            ]
          },
          "metadata": {
            "tags": []
          },
          "execution_count": 179
        }
      ]
    },
    {
      "cell_type": "code",
      "metadata": {
        "id": "ndkpqHDhodqk",
        "colab_type": "code",
        "colab": {}
      },
      "source": [
        " def display(head):\n",
        "      current = head \n",
        "      while current.next != None:\n",
        "        print(current.value)\n",
        "        current = current.next\n",
        "      print(current.value)"
      ],
      "execution_count": 0,
      "outputs": []
    },
    {
      "cell_type": "code",
      "metadata": {
        "id": "_gVy7A3Ooqap",
        "colab_type": "code",
        "colab": {
          "base_uri": "https://localhost:8080/",
          "height": 101
        },
        "outputId": "a5c842c4-816c-445f-f870-bf74e2211278"
      },
      "source": [
        "display(l2)"
      ],
      "execution_count": 181,
      "outputs": [
        {
          "output_type": "stream",
          "text": [
            "8\n",
            "0\n",
            "7\n",
            "2\n",
            "1\n"
          ],
          "name": "stdout"
        }
      ]
    },
    {
      "cell_type": "code",
      "metadata": {
        "id": "evCoxrITotOz",
        "colab_type": "code",
        "colab": {
          "base_uri": "https://localhost:8080/",
          "height": 67
        },
        "outputId": "1ef9bcd5-833e-446c-a568-3eccad363272"
      },
      "source": [
        "for i in intersectionPoint(l1,l2):\n",
        "  print(i.value)"
      ],
      "execution_count": 185,
      "outputs": [
        {
          "output_type": "stream",
          "text": [
            "2\n",
            "7\n",
            "1\n"
          ],
          "name": "stdout"
        }
      ]
    },
    {
      "cell_type": "code",
      "metadata": {
        "id": "IJYQAK6BpbCu",
        "colab_type": "code",
        "colab": {}
      },
      "source": [
        ""
      ],
      "execution_count": 0,
      "outputs": []
    }
  ]
}